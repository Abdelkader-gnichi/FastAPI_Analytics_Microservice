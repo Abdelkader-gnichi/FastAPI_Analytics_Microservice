{
 "cells": [
  {
   "cell_type": "code",
   "execution_count": null,
   "id": "63d9733c",
   "metadata": {},
   "outputs": [
    {
     "data": {
      "text/plain": [
       "'http://localhost:8002/api/events/'"
      ]
     },
     "execution_count": 5,
     "metadata": {},
     "output_type": "execute_result"
    }
   ],
   "source": [
    "import requests\n",
    "from pprint import pprint\n",
    "path = 'api/events'\n",
    "api_base_url = 'http://localhost:8002/'\n",
    "endpoint = f\"{api_base_url}{path}\"\n",
    "endpoint"
   ]
  },
  {
   "cell_type": "code",
   "execution_count": null,
   "id": "46915b6c",
   "metadata": {},
   "outputs": [],
   "source": []
  },
  {
   "cell_type": "code",
   "execution_count": 20,
   "id": "261db033",
   "metadata": {},
   "outputs": [
    {
     "name": "stdout",
     "output_type": "stream",
     "text": [
      "[{'bucket': '2025-04-28T00:00:00Z',\n",
      "  'count': 2115,\n",
      "  'id': '4785990f-b40b-408a-9834-0a84d0b14f61',\n",
      "  'page': '/about',\n",
      "  'updated_at': '2025-04-28T15:39:37.159595Z'},\n",
      " {'bucket': '2025-04-28T00:00:00Z',\n",
      "  'count': 1909,\n",
      "  'id': 'a95f0af7-7f3a-4b2a-8f63-5a3a80f82f11',\n",
      "  'page': '/blog',\n",
      "  'updated_at': '2025-04-28T15:39:37.159763Z'},\n",
      " {'bucket': '2025-04-28T00:00:00Z',\n",
      "  'count': 1984,\n",
      "  'id': '52ed49aa-09da-40eb-bd1f-f00518bd59ac',\n",
      "  'page': '/contact',\n",
      "  'updated_at': '2025-04-28T15:39:37.159933Z'},\n",
      " {'bucket': '2025-04-28T00:00:00Z',\n",
      "  'count': 2033,\n",
      "  'id': '6e3f0bc1-f159-4a99-bb95-77411e1ef218',\n",
      "  'page': '/home',\n",
      "  'updated_at': '2025-04-28T15:39:37.160027Z'},\n",
      " {'bucket': '2025-04-28T00:00:00Z',\n",
      "  'count': 1959,\n",
      "  'id': 'af07e213-e753-4bef-b887-cb21018a6904',\n",
      "  'page': '/pricing',\n",
      "  'updated_at': '2025-04-28T15:39:37.160110Z'}]\n"
     ]
    }
   ],
   "source": [
    "response = requests.get(endpoint, params={'duration': '1 week', 'pages': []})\n",
    "\n",
    "if response.ok:\n",
    "    data = response.json()\n",
    "    # print(data, '|', type(data), '|', data.get('results', None))\n",
    "    pprint(data)\n",
    "else:\n",
    "    pprint(response.text)"
   ]
  },
  {
   "cell_type": "code",
   "execution_count": 63,
   "id": "43187ecb",
   "metadata": {},
   "outputs": [
    {
     "name": "stdout",
     "output_type": "stream",
     "text": [
      "http://localhost:8002/api/events/5/\n",
      "ok True\n",
      "{'id': 5}  -  <class 'dict'>  -  5\n"
     ]
    }
   ],
   "source": [
    "path = 'api/events/5/'\n",
    "endpoint1 = api_base_url + path\n",
    "print(endpoint1)\n",
    "response = requests.get(endpoint1)\n",
    "\n",
    "print('ok', response.ok)\n",
    "\n",
    "if response.ok:\n",
    "    data = response.json()\n",
    "    print(data, ' - ', type(data), ' - ', data.get('id'))"
   ]
  },
  {
   "cell_type": "code",
   "execution_count": null,
   "id": "96f8da0f",
   "metadata": {},
   "outputs": [],
   "source": []
  }
 ],
 "metadata": {
  "kernelspec": {
   "display_name": "venv",
   "language": "python",
   "name": "python3"
  },
  "language_info": {
   "codemirror_mode": {
    "name": "ipython",
    "version": 3
   },
   "file_extension": ".py",
   "mimetype": "text/x-python",
   "name": "python",
   "nbconvert_exporter": "python",
   "pygments_lexer": "ipython3",
   "version": "3.13.3"
  }
 },
 "nbformat": 4,
 "nbformat_minor": 5
}
