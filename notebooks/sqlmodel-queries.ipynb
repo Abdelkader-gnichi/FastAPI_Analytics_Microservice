{
 "cells": [
  {
   "cell_type": "code",
   "execution_count": 6,
   "metadata": {},
   "outputs": [],
   "source": [
    "import sys\n",
    "from pathlib import Path"
   ]
  },
  {
   "cell_type": "code",
   "execution_count": 7,
   "metadata": {},
   "outputs": [],
   "source": [
    "src_path = Path('../src').resolve()\n",
    "sys.path.append(str(src_path))"
   ]
  },
  {
   "cell_type": "code",
   "execution_count": 8,
   "metadata": {},
   "outputs": [],
   "source": [
    "from sqlmodel import Session, select\n",
    "from api.events.models import EventModel\n",
    "from api.db.session import engine"
   ]
  },
  {
   "cell_type": "code",
   "execution_count": 9,
   "metadata": {},
   "outputs": [
    {
     "name": "stdout",
     "output_type": "stream",
     "text": [
      "SELECT eventmodel.id, eventmodel.time, eventmodel.updated_at, eventmodel.page, eventmodel.description \n",
      "FROM eventmodel ORDER BY eventmodel.updated_at ASC\n",
      " LIMIT 10\n"
     ]
    }
   ],
   "source": [
    "with Session(engine) as session:\n",
    "    query = select(EventModel).order_by(EventModel.updated_at.asc()).limit(10)\n",
    "    compiled_query = query.compile(compile_kwargs={\"literal_binds\": True})\n",
    "    print(compiled_query)"
   ]
  },
  {
   "cell_type": "code",
   "execution_count": 34,
   "metadata": {},
   "outputs": [
    {
     "name": "stdout",
     "output_type": "stream",
     "text": [
      "SELECT time_bucket('1 hour'::interval, eventmodel.time) AS time_bucket_1, eventmodel.page, count(*) AS count_1 \n",
      "FROM eventmodel \n",
      "WHERE eventmodel.time > '2025-04-28 13:54:22.091042+00:00' AND eventmodel.time <= '2025-04-28 15:54:22.091616+00:00' AND eventmodel.page IN ('/contact', '/about', '/home', '/pricing', '/blog') GROUP BY time_bucket('1 hour'::interval, eventmodel.time), eventmodel.page ORDER BY time_bucket('1 hour'::interval, eventmodel.time), eventmodel.page\n",
      "--------------------------------\n",
      "[(datetime.datetime(2025, 4, 28, 14, 0, tzinfo=datetime.timezone.utc), '/about', 2115),\n",
      " (datetime.datetime(2025, 4, 28, 14, 0, tzinfo=datetime.timezone.utc), '/blog', 1909),\n",
      " (datetime.datetime(2025, 4, 28, 14, 0, tzinfo=datetime.timezone.utc), '/contact', 1984),\n",
      " (datetime.datetime(2025, 4, 28, 14, 0, tzinfo=datetime.timezone.utc), '/home', 2033),\n",
      " (datetime.datetime(2025, 4, 28, 14, 0, tzinfo=datetime.timezone.utc), '/pricing', 1959)]\n"
     ]
    }
   ],
   "source": [
    "from timescaledb.hyperfunctions import time_bucket\n",
    "from pprint import pprint\n",
    "from sqlalchemy import func\n",
    "from datetime import datetime, timedelta, timezone\n",
    "\n",
    "\n",
    "bucket = time_bucket('1 hour', EventModel.time)\n",
    "pages = ['/contact', '/about', '/home', '/pricing', '/blog']\n",
    "\n",
    "start_time = datetime.now(timezone.utc) - timedelta(hours=1)\n",
    "finish_time = datetime.now(timezone.utc) + timedelta(hours=1)\n",
    "\n",
    "\n",
    "with Session(engine) as session:\n",
    "    query = select(\n",
    "        bucket,\n",
    "        EventModel.page,\n",
    "        func.count()\n",
    "    ).where(\n",
    "        EventModel.time > start_time,\n",
    "        EventModel.time <= finish_time,\n",
    "        EventModel.page.in_(pages)\n",
    "    ).group_by(\n",
    "        bucket,\n",
    "        EventModel.page\n",
    "    ).order_by(\n",
    "        bucket,\n",
    "        EventModel.page\n",
    "    )\n",
    "    compiled_query = query.compile(compile_kwargs={'literal_binds': True})\n",
    "    print(compiled_query)\n",
    "    print('--------------------------------')\n",
    "    results = session.exec(query).fetchall()\n",
    "    pprint(results)"
   ]
  }
 ],
 "metadata": {
  "kernelspec": {
   "display_name": "venv",
   "language": "python",
   "name": "python3"
  },
  "language_info": {
   "codemirror_mode": {
    "name": "ipython",
    "version": 3
   },
   "file_extension": ".py",
   "mimetype": "text/x-python",
   "name": "python",
   "nbconvert_exporter": "python",
   "pygments_lexer": "ipython3",
   "version": "3.13.3"
  }
 },
 "nbformat": 4,
 "nbformat_minor": 2
}
