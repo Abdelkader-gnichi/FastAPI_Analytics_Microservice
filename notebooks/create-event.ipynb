{
 "cells": [
  {
   "cell_type": "code",
   "execution_count": 1,
   "id": "75eb9dda",
   "metadata": {},
   "outputs": [],
   "source": [
    "import requests\n",
    "import json"
   ]
  },
  {
   "cell_type": "code",
   "execution_count": 2,
   "id": "8af550be",
   "metadata": {},
   "outputs": [
    {
     "data": {
      "text/plain": [
       "'http://localhost:8002/api/events'"
      ]
     },
     "execution_count": 2,
     "metadata": {},
     "output_type": "execute_result"
    }
   ],
   "source": [
    "path = 'api/events'\n",
    "api_base_url = 'http://localhost:8002/'\n",
    "endpoint = f\"{api_base_url}{path}\"\n",
    "endpoint"
   ]
  },
  {
   "cell_type": "code",
   "execution_count": 3,
   "id": "19bf6d46",
   "metadata": {},
   "outputs": [],
   "source": [
    "data = {\"page\": \"test_page\", 'description': 'ali'}\n",
    "j_data = json.dumps(data)"
   ]
  },
  {
   "cell_type": "code",
   "execution_count": 11,
   "id": "a661ed87",
   "metadata": {},
   "outputs": [
    {
     "name": "stdout",
     "output_type": "stream",
     "text": [
      "{'id': 'b9553d5f-1ed5-4b70-bff5-377d9a4cac71', 'page': 'test_page', 'updated_at': '2025-04-23T05:54:11.107098Z', 'description': 'ali', 'created_at': '2025-04-23T05:54:11.107079Z'} | <class 'dict'> | b9553d5f-1ed5-4b70-bff5-377d9a4cac71\n"
     ]
    }
   ],
   "source": [
    "response = requests.post(endpoint, data=j_data)\n",
    "\n",
    "if response.ok:\n",
    "    data = response.json()\n",
    "    print(data, '|', type(data), '|', data.get('id'))\n",
    "else:\n",
    "    print(response.text) "
   ]
  },
  {
   "cell_type": "code",
   "execution_count": 9,
   "id": "2ba60891",
   "metadata": {},
   "outputs": [
    {
     "name": "stdout",
     "output_type": "stream",
     "text": [
      "{'id': 1, 'page': '', 'description': 'this the event description.'} | <class 'dict'> | 1\n"
     ]
    }
   ],
   "source": [
    "response = requests.put(endpoint + '/1/', json={'description':'this the event description.'})\n",
    "\n",
    "if response.ok:\n",
    "    data = response.json()\n",
    "    print(data, '|', type(data), '|', data.get('id'))\n",
    "else:\n",
    "    print(response.text)"
   ]
  }
 ],
 "metadata": {
  "kernelspec": {
   "display_name": "venv",
   "language": "python",
   "name": "python3"
  },
  "language_info": {
   "codemirror_mode": {
    "name": "ipython",
    "version": 3
   },
   "file_extension": ".py",
   "mimetype": "text/x-python",
   "name": "python",
   "nbconvert_exporter": "python",
   "pygments_lexer": "ipython3",
   "version": "3.13.3"
  }
 },
 "nbformat": 4,
 "nbformat_minor": 5
}
