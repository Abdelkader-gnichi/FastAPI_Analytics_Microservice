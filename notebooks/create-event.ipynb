{
 "cells": [
  {
   "cell_type": "code",
   "execution_count": 12,
   "id": "75eb9dda",
   "metadata": {},
   "outputs": [],
   "source": [
    "import requests\n",
    "import json"
   ]
  },
  {
   "cell_type": "code",
   "execution_count": 13,
   "id": "8af550be",
   "metadata": {},
   "outputs": [
    {
     "data": {
      "text/plain": [
       "'http://localhost:8002/api/events'"
      ]
     },
     "execution_count": 13,
     "metadata": {},
     "output_type": "execute_result"
    }
   ],
   "source": [
    "path = 'api/events'\n",
    "api_base_url = 'http://localhost:8002/'\n",
    "endpoint = f\"{api_base_url}{path}\"\n",
    "endpoint"
   ]
  },
  {
   "cell_type": "code",
   "execution_count": 14,
   "id": "19bf6d46",
   "metadata": {},
   "outputs": [],
   "source": [
    "data = {\"id\": \"1\"}\n",
    "j_data = json.dumps(data)"
   ]
  },
  {
   "cell_type": "code",
   "execution_count": 15,
   "id": "a661ed87",
   "metadata": {},
   "outputs": [
    {
     "name": "stdout",
     "output_type": "stream",
     "text": [
      "{'id': 1} | <class 'dict'> | None\n"
     ]
    }
   ],
   "source": [
    "response = requests.post(endpoint, data=j_data)\n",
    "\n",
    "if response.ok:\n",
    "    data = response.json()\n",
    "    print(data, '|', type(data), '|', data.get('results'))"
   ]
  }
 ],
 "metadata": {
  "kernelspec": {
   "display_name": "venv",
   "language": "python",
   "name": "python3"
  },
  "language_info": {
   "codemirror_mode": {
    "name": "ipython",
    "version": 3
   },
   "file_extension": ".py",
   "mimetype": "text/x-python",
   "name": "python",
   "nbconvert_exporter": "python",
   "pygments_lexer": "ipython3",
   "version": "3.12.4"
  }
 },
 "nbformat": 4,
 "nbformat_minor": 5
}
