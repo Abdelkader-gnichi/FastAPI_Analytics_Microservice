{
 "cells": [
  {
   "cell_type": "code",
   "execution_count": 1,
   "id": "63d9733c",
   "metadata": {},
   "outputs": [
    {
     "data": {
      "text/plain": [
       "'http://localhost:8002/api/events'"
      ]
     },
     "execution_count": 1,
     "metadata": {},
     "output_type": "execute_result"
    }
   ],
   "source": [
    "import requests\n",
    "path = 'api/events'\n",
    "api_base_url = 'http://localhost:8002/'\n",
    "endpoint = f\"{api_base_url}{path}\"\n",
    "endpoint"
   ]
  },
  {
   "cell_type": "code",
   "execution_count": 2,
   "id": "261db033",
   "metadata": {},
   "outputs": [
    {
     "name": "stdout",
     "output_type": "stream",
     "text": [
      "{'items': [1, 2, 3]} | <class 'dict'> | [1, 2, 3]\n"
     ]
    }
   ],
   "source": [
    "response = requests.get(endpoint)\n",
    "\n",
    "if response.ok:\n",
    "    data = response.json()\n",
    "    print(data, '|', type(data), '|', data.get('items'))"
   ]
  },
  {
   "cell_type": "code",
   "execution_count": 15,
   "id": "43187ecb",
   "metadata": {},
   "outputs": [
    {
     "name": "stdout",
     "output_type": "stream",
     "text": [
      "http://localhost:8002/api/events/5/\n",
      "ok True\n",
      "{'id': 5}  -  <class 'dict'>  -  5\n"
     ]
    }
   ],
   "source": [
    "path = 'api/events/5/'\n",
    "endpoint = api_base_url + path\n",
    "print(endpoint)\n",
    "response = requests.get(endpoint)\n",
    "\n",
    "print('ok', response.ok)\n",
    "\n",
    "if response.ok:\n",
    "    data = response.json()\n",
    "    print(data, ' - ', type(data), ' - ', data.get('id'))"
   ]
  },
  {
   "cell_type": "code",
   "execution_count": null,
   "id": "96f8da0f",
   "metadata": {},
   "outputs": [],
   "source": []
  }
 ],
 "metadata": {
  "kernelspec": {
   "display_name": "venv",
   "language": "python",
   "name": "python3"
  },
  "language_info": {
   "codemirror_mode": {
    "name": "ipython",
    "version": 3
   },
   "file_extension": ".py",
   "mimetype": "text/x-python",
   "name": "python",
   "nbconvert_exporter": "python",
   "pygments_lexer": "ipython3",
   "version": "3.12.4"
  }
 },
 "nbformat": 4,
 "nbformat_minor": 5
}
